{
 "cells": [
  {
   "cell_type": "markdown",
   "id": "e91f41cc-d973-4a20-936c-a0e2fef33c04",
   "metadata": {},
   "source": [
    "## Files & Exceptional Handling"
   ]
  },
  {
   "cell_type": "markdown",
   "id": "417389d9-ee38-4085-b94d-292debc57380",
   "metadata": {},
   "source": [
    "### Que 1. Discuss the scenarios where multithreading is preferable to multiprocessing and scenarios where multiprocessing is a better choice."
   ]
  },
  {
   "cell_type": "markdown",
   "id": "640e2721-47c5-4593-9f6c-3f6390433b9e",
   "metadata": {},
   "source": [
    "### Answer\n",
    "Multithreading and multiprocessing are two distinct approaches for achieving concurrent execution in programs, each with its advantages and disadvantages. Here’s a breakdown of scenarios where one might be preferable over the other:"
   ]
  },
  {
   "cell_type": "markdown",
   "id": "53cc63f4-aa7a-420c-8d62-fe640f5ed07c",
   "metadata": {},
   "source": [
    "#### Scenarios Favoring Multithreading\n",
    "##### I/O-Bound Tasks:\n",
    "\n",
    "When a program spends a lot of time waiting for I/O operations (like file reading/writing, network calls, etc.), multithreading can be effective. Threads can switch during these wait times, keeping the CPU busy.\n",
    "Shared Memory:\n",
    "\n",
    "If tasks need to share data frequently, multithreading is more efficient since threads within the same process share the same memory space. This allows for easier communication and less overhead.\n",
    "##### Low Overhead:\n",
    "\n",
    "Creating and managing threads is typically lighter on system resources compared to processes, making multithreading suitable for applications with numerous lightweight tasks.\n",
    "##### Real-Time Systems:\n",
    "\n",
    "In applications requiring low-latency responses (like certain gaming or real-time data processing applications), multithreading can help achieve faster context switching.\n",
    "##### Simple State Management:\n",
    "\n",
    "If the state can be managed easily within shared memory (with appropriate locking mechanisms), multithreading can be advantageous.\n",
    "#### Scenarios Favoring Multiprocessing\n",
    "##### CPU-Bound Tasks:\n",
    "\n",
    "For tasks that require heavy computation (like complex calculations or data processing), multiprocessing is preferred. Each process can run on separate CPU cores, effectively utilizing multi-core processors.\n",
    "##### Isolation and Stability:\n",
    "\n",
    "Since processes have separate memory spaces, a crash in one process won’t affect others. This isolation makes multiprocessing a good choice for applications where stability and fault tolerance are critical.\n",
    "##### Avoiding Global Interpreter Lock (GIL):\n",
    "\n",
    "In languages like Python, the GIL can limit the effectiveness of multithreading for CPU-bound tasks. Multiprocessing bypasses this limitation by using separate memory spaces.\n",
    "##### Resource Management:\n",
    "\n",
    "If an application requires strict control over resources (e.g., memory usage), multiprocessing can provide clearer boundaries since each process has its own resources.\n",
    "##### Scalability:\n",
    "\n",
    "In distributed systems or when running on clusters, multiprocessing allows for easier scalability across machines, as each process can run independently.\n",
    "#### Conclusion\n",
    "Ultimately, the choice between multithreading and multiprocessing depends on the specific requirements of the application, including the nature of the tasks (I/O-bound vs. CPU-bound), the need for resource isolation, and the performance characteristics desired. Analyzing the problem space and understanding the execution model will help in selecting the most suitable approach.\n"
   ]
  },
  {
   "cell_type": "markdown",
   "id": "2e30e4b2-593d-4268-816a-71d8a57c54b7",
   "metadata": {},
   "source": [
    "### Que 2. Describe what a process pool is and how it helps in managing multiple processes efficiently."
   ]
  },
  {
   "cell_type": "markdown",
   "id": "4871ac87-02d5-4dd5-9a66-a1b41c0e4541",
   "metadata": {},
   "source": [
    "### Answer\n",
    "A process pool is a design pattern used to manage multiple processes efficiently, particularly in scenarios where tasks are computationally intensive or involve blocking operations. Here’s a closer look at what a process pool is, its components, and how it helps in managing processes:\n",
    "\n",
    "#### What is a Process Pool?\n",
    "A process pool is a collection of pre-instantiated processes that are maintained and managed to perform tasks concurrently. When a task is submitted, it can be assigned to one of the available processes in the pool. Once the task is completed, the process can then take on another task without the overhead of being created and destroyed repeatedly."
   ]
  },
  {
   "cell_type": "markdown",
   "id": "455b2689-4b9d-419a-88f2-2cb666696feb",
   "metadata": {},
   "source": [
    "#### Key Components\n",
    "##### Worker Processes:\n",
    "\n",
    "These are the actual processes that perform the tasks. The pool creates a fixed number of worker processes at initialization.\n",
    "##### Task Queue:\n",
    "\n",
    "A queue holds tasks waiting to be processed. When a worker process becomes available, it retrieves a task from this queue.\n",
    "##### Process Manager:\n",
    "\n",
    "This component oversees the pool, managing the worker processes, assigning tasks, and handling any errors or process failures.\n",
    "Benefits of Using a Process Pool\n",
    "##### Resource Management:\n",
    "\n",
    "By limiting the number of concurrent processes, a process pool prevents excessive resource consumption (like CPU and memory). This ensures the system remains stable and responsive.\n",
    "##### Reduced Overhead:\n",
    "\n",
    "Creating and destroying processes can be resource-intensive and time-consuming. A process pool mitigates this overhead by reusing existing processes.\n",
    "##### Improved Performance:\n",
    "\n",
    "For CPU-bound tasks, having a fixed number of processes that can run on multiple CPU cores helps to maximize CPU utilization, leading to better performance.\n",
    "##### Simplified Concurrency:\n",
    "\n",
    "A process pool abstracts away the complexities of managing multiple processes. Developers can focus on task submission and result retrieval without worrying about the underlying process management.\n",
    "##### Load Balancing:\n",
    "\n",
    "The pool can effectively distribute tasks among the available worker processes, leading to more efficient execution and better use of resources.\n",
    "##### Error Handling:\n",
    "\n",
    "The process manager can implement error recovery strategies, such as restarting failed processes or retrying tasks, enhancing the robustness of the application.\n",
    "#### Use Cases\n",
    "Web Servers: Handling multiple requests concurrently, where each request can be processed in a separate worker process.\n",
    "Data Processing: For tasks like image processing or data analysis, where many computations can be done independently.\n",
    "Batch Jobs: Running numerous tasks in parallel, such as simulations or data transformations.\n",
    "#### Conclusion\n",
    "A process pool is a powerful pattern for managing multiple processes, particularly in scenarios requiring efficient resource utilization and concurrent task execution. By providing a framework to handle worker processes, task queues, and load balancing, it simplifies the development of concurrent applications and enhances performance while minimizing overhead.\n"
   ]
  },
  {
   "cell_type": "markdown",
   "id": "1bcef5fc-feba-4202-aa82-1acf7be653b7",
   "metadata": {},
   "source": [
    "### Que 3. Explain what multiprocessing is and why it is used in Python programs."
   ]
  },
  {
   "cell_type": "markdown",
   "id": "08a10bf1-4c10-4952-a702-84d4ead3e416",
   "metadata": {},
   "source": [
    "### Answer\n",
    "Multiprocessing is a programming paradigm that allows multiple processes to run concurrently, leveraging multiple CPU cores. In Python, it’s particularly useful for improving the performance of CPU-bound applications, where tasks require significant computational power.\n",
    "\n",
    "#### What is Multiprocessing?\n",
    "In the context of programming, multiprocessing involves creating multiple processes that can execute independently of one another. Each process has its own memory space, which means they don’t share memory by default. This isolation helps prevent issues related to concurrent access, such as race conditions, but also requires inter-process communication (IPC) for sharing data between processes."
   ]
  },
  {
   "cell_type": "markdown",
   "id": "954054fc-8288-49bd-bbf1-591f40c3fe87",
   "metadata": {},
   "source": [
    "#### Why Use Multiprocessing in Python?\n",
    "##### Bypassing the Global Interpreter Lock (GIL):\n",
    "\n",
    "Python has a Global Interpreter Lock (GIL) that restricts the execution of multiple threads to one at a time, making it challenging to achieve true parallelism for CPU-bound tasks using multithreading. Multiprocessing creates separate processes, each with its own Python interpreter and memory space, allowing for parallel execution across multiple CPU cores.\n",
    "##### Improved Performance for CPU-Bound Tasks:\n",
    "\n",
    "When tasks require heavy computation (e.g., mathematical calculations, data processing), multiprocessing can significantly speed up execution by distributing the workload across multiple processors.\n",
    "##### Isolation and Stability:\n",
    "\n",
    "Each process runs in its own memory space, which provides fault tolerance. If one process crashes, it doesn’t affect others. This isolation is beneficial for stability in critical applications.\n",
    "##### Simplified State Management:\n",
    "\n",
    "Since processes don’t share memory, you can avoid complex locking mechanisms required in multithreading for safe access to shared resources.\n",
    "##### Enhanced Resource Utilization:\n",
    "\n",
    "Multiprocessing can effectively utilize multi-core processors, enabling better resource management and maximizing CPU usage.\n",
    "##### Easier Scalability:\n",
    "\n",
    "Multiprocessing can be scaled across multiple machines or nodes in distributed systems, facilitating better resource management in larger applications.\n",
    "#### Practical Use Cases in Python\n",
    "##### Data Analysis and Processing: \n",
    "Tasks that involve heavy computation, like statistical analysis, simulations, or machine learning model training.\n",
    "##### Web Scraping: \n",
    "Gathering data from multiple sources simultaneously by processing requests in parallel.\n",
    "##### Image Processing: \n",
    "Applying transformations to a large number of images concurrently.\n",
    "##### Scientific Computation: \n",
    "Running simulations or complex calculations that can be broken down into independent tasks.\n",
    "#### Example of Multiprocessing in Python\n",
    "Using Python’s multiprocessing module, you can create a simple pool of workers to perform tasks concurrently:"
   ]
  },
  {
   "cell_type": "code",
   "execution_count": null,
   "id": "294830d0-20b6-4884-a55d-b9dd5c5495c4",
   "metadata": {},
   "outputs": [],
   "source": [
    "import multiprocessing\n",
    "\n",
    "def square(n):\n",
    "    return n * n\n",
    "\n",
    "if __name__ == \"__main__\":\n",
    "    with multiprocessing.Pool(processes=4) as pool:\n",
    "        numbers = [1, 2, 3, 4, 5]\n",
    "        results = pool.map(square, numbers)\n",
    "print(results)  "
   ]
  },
  {
   "cell_type": "markdown",
   "id": "f861ac17-7c60-4f98-974e-0db2e600e6d0",
   "metadata": {},
   "source": [
    "#### Conclusion\n",
    "Multiprocessing in Python is a vital tool for developers aiming to optimize performance, especially for CPU-bound tasks. By enabling parallel execution and utilizing multiple CPU cores, it allows for more efficient program design and can lead to significant improvements in speed and responsiveness."
   ]
  },
  {
   "cell_type": "markdown",
   "id": "300ce747-a750-4cde-877b-7b707d4ba7b8",
   "metadata": {},
   "source": [
    "### Que 4. Write a Python program using multithreading where one thread adds numbers to a list, and another thread removes numbers from the list. Implement a mechanism to avoid race conditions using threading.Lock."
   ]
  },
  {
   "cell_type": "markdown",
   "id": "b38f64bc-f490-4a64-b3d5-3433fb045ca4",
   "metadata": {},
   "source": [
    "### Answer\n",
    "Certainly! Below is an example of a Python program that uses multithreading to add and remove numbers from a shared list. We’ll use threading.Lock to avoid race conditions, ensuring that only one thread can access the list at a time.\n",
    "\n",
    "Python Program Using Multithreading"
   ]
  },
  {
   "cell_type": "code",
   "execution_count": 1,
   "id": "22f5f82d-929c-4299-a4cf-ba5f1d9484ea",
   "metadata": {},
   "outputs": [
    {
     "name": "stdout",
     "output_type": "stream",
     "text": [
      "Added: 0\n",
      "Removed: 0\n",
      "No numbers to remove.\n",
      "Added: 1\n",
      "Removed: 1\n",
      "Added: 2\n",
      "Removed: 2\n",
      "No numbers to remove.\n",
      "Added: 3\n",
      "Removed: 3\n",
      "Added: 4\n",
      "Removed: 4\n",
      "No numbers to remove.\n",
      "Added: 5\n",
      "Removed: 5\n",
      "Added: 6\n",
      "Removed: 6\n",
      "Added: 7\n",
      "Added: 8\n",
      "Added: 9\n",
      "Final list: [7, 8, 9]\n"
     ]
    }
   ],
   "source": [
    "import threading\n",
    "import time\n",
    "import random\n",
    "\n",
    "# Shared resources\n",
    "shared_list = []\n",
    "lock = threading.Lock()\n",
    "\n",
    "# Function to add numbers to the list\n",
    "def add_numbers():\n",
    "    for i in range(10):\n",
    "        time.sleep(random.uniform(0.1, 0.5))  # Simulate work\n",
    "        lock.acquire()\n",
    "        try:\n",
    "            shared_list.append(i)\n",
    "            print(f\"Added: {i}\")\n",
    "        finally:\n",
    "            lock.release()\n",
    "\n",
    "# Function to remove numbers from the list\n",
    "def remove_numbers():\n",
    "    for _ in range(10):\n",
    "        time.sleep(random.uniform(0.1, 0.5))  # Simulate work\n",
    "        lock.acquire()\n",
    "        try:\n",
    "            if shared_list:\n",
    "                removed = shared_list.pop(0)\n",
    "                print(f\"Removed: {removed}\")\n",
    "            else:\n",
    "                print(\"No numbers to remove.\")\n",
    "        finally:\n",
    "            lock.release()\n",
    "\n",
    "if __name__ == \"__main__\":\n",
    "    # Create threads for adding and removing numbers\n",
    "    add_thread = threading.Thread(target=add_numbers)\n",
    "    remove_thread = threading.Thread(target=remove_numbers)\n",
    "\n",
    "    # Start the threads\n",
    "    add_thread.start()\n",
    "    remove_thread.start()\n",
    "\n",
    "    # Wait for both threads to complete\n",
    "    add_thread.join()\n",
    "    remove_thread.join()\n",
    "\n",
    "    print(\"Final list:\", shared_list)"
   ]
  },
  {
   "cell_type": "markdown",
   "id": "c9bffe53-b04a-4608-831d-edaadd1e0b23",
   "metadata": {},
   "source": [
    "#### Explanation\n",
    "##### Shared Resource:\n",
    "\n",
    "shared_list is the list that both threads will access. A lock is created using threading.Lock() to manage access to this shared resource.\n",
    "##### Adding Function:\n",
    "\n",
    "The add_numbers function adds numbers from 0 to 9 to the list. Before modifying the list, it acquires the lock to ensure exclusive access. After adding, it releases the lock.\n",
    "##### Removing Function:\n",
    "\n",
    "The remove_numbers function removes numbers from the front of the list. Similar to the adding function, it acquires the lock before accessing the list and releases it afterward.\n",
    "##### Thread Creation and Management:\n",
    "\n",
    "Two threads are created: one for adding and one for removing numbers. Both threads are started and the program waits for them to complete using join().\n",
    "##### Random Delays:\n",
    "\n",
    "Random sleep intervals are introduced to simulate varying workloads and to make it easier to observe the behavior of the threads.\n",
    "#### Conclusion\n",
    "This program demonstrates how to safely modify a shared list using threading in Python while avoiding race conditions through the use of locks. You can run the program, and you'll see how numbers are added and removed concurrently while maintaining the integrity of the shared list."
   ]
  },
  {
   "cell_type": "markdown",
   "id": "2b7c9cea-5ef1-4367-8b3b-dcafa305aa45",
   "metadata": {},
   "source": [
    "### Que 5. Describe the methods and tools available in Python for safely sharing data between threads and processes."
   ]
  },
  {
   "cell_type": "markdown",
   "id": "4957314f-1734-4ec6-8981-1b7c0545da5a",
   "metadata": {},
   "source": [
    "### Answer\n",
    "In Python, sharing data between threads and processes safely is crucial for avoiding race conditions and ensuring data integrity. Here are some of the key methods and tools available for this purpose:\n",
    "\n",
    "Sharing Data Between Threads\n",
    "#### Threading Locks:\n",
    "\n",
    "threading.Lock: A simple mutex (mutual exclusion) that allows only one thread to access a shared resource at a time. Use acquire() to lock and release() to unlock.\n",
    "##### Example:\n"
   ]
  },
  {
   "cell_type": "code",
   "execution_count": 2,
   "id": "30417269-f265-4816-87a8-11fa21e67921",
   "metadata": {},
   "outputs": [],
   "source": [
    "import threading\n",
    "\n",
    "lock = threading.Lock()\n",
    "shared_data = []\n",
    "\n",
    "def thread_function(data):\n",
    "    lock.acquire()\n",
    "    try:\n",
    "        shared_data.append(data)\n",
    "    finally:\n",
    "        lock.release()"
   ]
  },
  {
   "cell_type": "markdown",
   "id": "ef72b46f-2c3d-4074-ac8a-0ed730833710",
   "metadata": {},
   "source": [
    "#### RLock (Reentrant Lock):\n",
    "\n",
    "threading.RLock: Similar to a regular lock but allows a thread to acquire it multiple times. Useful in scenarios where the same thread might try to lock the same resource multiple times.\n",
    "##### Condition Variables:\n",
    "\n",
    "threading.Condition: Allows threads to wait for certain conditions to be met. Useful for signaling between threads.\n",
    "##### Example:"
   ]
  },
  {
   "cell_type": "code",
   "execution_count": 3,
   "id": "5063d20f-010a-4a3d-b7dd-655cd3a6269a",
   "metadata": {},
   "outputs": [],
   "source": [
    "condition = threading.Condition()\n",
    "\n",
    "def consumer():\n",
    "    with condition:\n",
    "        condition.wait()  # Wait until notified\n",
    "        # Process data"
   ]
  },
  {
   "cell_type": "markdown",
   "id": "b7452706-e49d-4e4c-868d-d671890586dd",
   "metadata": {},
   "source": [
    "#### Events:\n",
    "\n",
    "threading.Event: A simple way to communicate between threads by setting and clearing events. Threads can wait for the event to be set.\n",
    "##### Example:"
   ]
  },
  {
   "cell_type": "code",
   "execution_count": 4,
   "id": "3ec7d7ab-a11d-4605-9a3f-006bb6cdb655",
   "metadata": {},
   "outputs": [],
   "source": [
    "event = threading.Event()\n",
    "\n",
    "def thread_function():\n",
    "    event.wait()  # Wait until the event is set\n",
    "    # Proceed with execution"
   ]
  },
  {
   "cell_type": "markdown",
   "id": "0cfcb156-3861-4e86-a7ba-5ed6cbbc3e11",
   "metadata": {},
   "source": [
    "#### Queues:\n",
    "\n",
    "queue.Queue: A thread-safe FIFO queue that allows multiple threads to communicate safely by producing and consuming items.\n",
    "##### Example:\n"
   ]
  },
  {
   "cell_type": "code",
   "execution_count": 5,
   "id": "448c16ef-7142-4658-bfc2-24af1486cd8f",
   "metadata": {},
   "outputs": [],
   "source": [
    "from queue import Queue\n",
    "\n",
    "queue = Queue()\n",
    "\n",
    "def producer():\n",
    "    queue.put(item)\n",
    "\n",
    "def consumer():\n",
    "    item = queue.get()"
   ]
  },
  {
   "cell_type": "markdown",
   "id": "c011ff3f-8b37-45d3-9cb8-73f2ec529259",
   "metadata": {},
   "source": [
    "Sharing Data Between Processes\n",
    "#### Multiprocessing Locks:\n",
    "\n",
    "multiprocessing.Lock: Similar to threading.Lock, but designed for use with processes. Use it to ensure that only one process accesses a shared resource at a time.\n",
    "#### Queues:\n",
    "\n",
    "multiprocessing.Queue: A process-safe FIFO queue for inter-process communication (IPC). Processes can put and get items from the queue.\n",
    "##### Example:"
   ]
  },
  {
   "cell_type": "code",
   "execution_count": 6,
   "id": "86572064-935f-403d-8467-3be6dbcedfb8",
   "metadata": {},
   "outputs": [],
   "source": [
    "from multiprocessing import Queue\n",
    "\n",
    "queue = Queue()\n",
    "\n",
    "def producer():\n",
    "    queue.put(item)\n",
    "\n",
    "def consumer():\n",
    "    item = queue.get()"
   ]
  },
  {
   "cell_type": "markdown",
   "id": "d41ff69e-bf61-4570-8823-cbcd2b40b9d0",
   "metadata": {},
   "source": [
    "#### Pipes:\n",
    "\n",
    "multiprocessing.Pipe: Creates a two-way communication channel between processes. This can be used to send messages back and forth.\n",
    "##### Example:"
   ]
  },
  {
   "cell_type": "code",
   "execution_count": null,
   "id": "57ef5589-d0fc-4594-8022-186aa0538ab8",
   "metadata": {},
   "outputs": [],
   "source": [
    "from multiprocessing import Pipe\n",
    "\n",
    "parent_conn, child_conn = Pipe()\n",
    "\n",
    "def child_process():\n",
    "    child_conn.send(data)\n",
    "\n",
    "data = parent_conn.recv()"
   ]
  },
  {
   "cell_type": "markdown",
   "id": "2ab04467-5bf4-4191-8cad-fa423d3c42ed",
   "metadata": {},
   "source": [
    "#### Shared Memory:\n",
    "\n",
    "multiprocessing.Value and multiprocessing.Array: Allow you to create shared memory for simple data types and arrays. This is useful for sharing state between processes without serialization overhead.\n",
    "##### Example:"
   ]
  },
  {
   "cell_type": "code",
   "execution_count": 3,
   "id": "09b9ce82-4515-4f11-b47f-b110251737d2",
   "metadata": {},
   "outputs": [],
   "source": [
    "from multiprocessing import Value\n",
    "\n",
    "shared_value = Value('i', 0)"
   ]
  },
  {
   "cell_type": "markdown",
   "id": "aa38b5a0-d0b4-49ed-b212-d15973c5bb00",
   "metadata": {},
   "source": [
    "#### Manager Objects:\n",
    "\n",
    "multiprocessing.Manager: Provides a way to create shared objects (like lists, dictionaries, etc.) that can be safely accessed by multiple processes.\n",
    "##### Example:"
   ]
  },
  {
   "cell_type": "code",
   "execution_count": 4,
   "id": "348537b9-29ae-4040-8812-8bc2e6763f5c",
   "metadata": {},
   "outputs": [],
   "source": [
    "from multiprocessing import Manager\n",
    "\n",
    "manager = Manager()\n",
    "shared_dict = manager.dict()"
   ]
  },
  {
   "cell_type": "markdown",
   "id": "f1201528-08fa-401f-a61d-7f3d98a90029",
   "metadata": {},
   "source": [
    "#### Summary\n",
    "Python provides various tools and methods to safely share data between threads and processes. For threads, Locks, Condition Variables, Events, and Queues are commonly used. For processes, Locks, Queues, Pipes, shared memory objects, and Managers facilitate safe inter-process communication. The choice of tool depends on the specific requirements of the application, including the type of data being shared and the expected interaction pattern between threads or processes."
   ]
  },
  {
   "cell_type": "markdown",
   "id": "cc01d846-48b6-488b-9c2d-403ec3d93698",
   "metadata": {},
   "source": [
    "### Que 6. Discuss why it’s crucial to handle exceptions in concurrent programs and the techniques available for doing so."
   ]
  },
  {
   "cell_type": "markdown",
   "id": "3b57673f-46f4-4178-b223-85666a926502",
   "metadata": {},
   "source": [
    "### Answer\n",
    "Handling exceptions in concurrent programs is crucial for several reasons:\n",
    "\n",
    "#### 1. Maintaining Stability\n",
    "In concurrent systems, an unhandled exception in one thread can lead to cascading failures, potentially bringing down the entire application. Proper exception handling ensures that one failure doesn’t compromise the stability of other threads or the overall system.\n",
    "\n",
    "#### 2. Resource Management\n",
    "Concurrent programs often involve shared resources (like memory or files). If an exception occurs and is not properly handled, it can lead to resource leaks or deadlocks, as resources may not be released correctly. Effective exception handling helps ensure that resources are managed properly even when errors occur.\n",
    "\n",
    "#### 3. Debugging and Logging\n",
    "When exceptions are handled appropriately, they can provide valuable information about what went wrong in concurrent executions. This information is crucial for debugging and for maintaining logs that can help identify issues in production systems.\n",
    "\n",
    "#### 4. User Experience\n",
    "In user-facing applications, unhandled exceptions can lead to crashes or hangs, severely affecting user experience. Properly handling exceptions can allow the application to fail gracefully, providing users with error messages or options to retry operations.\n",
    "\n",
    "##### Techniques for Handling Exceptions in Concurrent Programs\n",
    "##### 1.Try-Catch Blocks\n",
    "\n",
    "Each thread can have its own try-catch block to handle exceptions locally. This ensures that exceptions are caught where they occur, allowing for specific recovery actions.\n",
    "##### 2.Thread-Specific Exception Handling\n",
    "\n",
    "Use thread-local storage to capture exceptions and handle them at a higher level, such as in the main thread, allowing centralized logging and recovery.\n",
    "##### 3.Future and Promise Mechanisms\n",
    "\n",
    "In languages that support futures/promises, exceptions thrown in asynchronous tasks can be captured and re-thrown when the result is accessed, allowing the calling code to handle the exception.\n",
    "##### 4.Error Callbacks\n",
    "\n",
    "Pass error-handling callbacks to concurrent tasks. This allows a task to invoke a callback function when it encounters an error, giving more control over how to handle failures.\n",
    "##### 5.Supervision Trees (in Actor Models)\n",
    "\n",
    "In actor-based models (like Akka), supervisors can monitor child actors. If a child actor fails, the supervisor can decide whether to restart it, stop it, or escalate the error, thus maintaining overall system integrity.\n",
    "##### 6.Global Exception Handlers\n",
    "\n",
    "Setting up global exception handlers can help catch unhandled exceptions in threads, allowing for logging and graceful shutdowns.\n",
    "##### 7.Using Libraries or Frameworks\n",
    "\n",
    "Some programming languages and frameworks provide built-in mechanisms for handling exceptions in concurrent contexts (e.g., async/await in JavaScript, CompletableFuture in Java, etc.), which can simplify the handling process.\n",
    "##### 8.Timeouts and Circuit Breakers\n",
    "\n",
    "Implementing timeouts for concurrent tasks can help avoid situations where a task hangs indefinitely. Circuit breakers can prevent the system from making repeated calls to a failing service, allowing it to recover.\n",
    "#### Conclusion\n",
    "In concurrent programming, robust exception handling is essential for creating resilient applications. By employing the right techniques, developers can ensure that their applications can gracefully recover from errors, maintain stability, and provide a better experience for users.\n",
    "\n",
    "\n",
    "\n"
   ]
  },
  {
   "cell_type": "markdown",
   "id": "8ec1e1e0-4848-459b-b48b-f379a7cb31b7",
   "metadata": {},
   "source": [
    "### Que 7. Create a program that uses a thread pool to calculate the factorial of numbers from 1 to 10 concurrently. Use concurrent.futures.ThreadPoolExecutor to manage the threads."
   ]
  },
  {
   "cell_type": "markdown",
   "id": "05332366-3df3-41a6-85e5-5ca98c4ea1f0",
   "metadata": {},
   "source": [
    "### Answer\n",
    "Here’s a Python program that uses concurrent.futures.ThreadPoolExecutor to calculate the factorial of numbers from 1 to 10 concurrently:"
   ]
  },
  {
   "cell_type": "code",
   "execution_count": 1,
   "id": "11246dfa-3df7-4c1e-bdbe-22e6fc26fa26",
   "metadata": {},
   "outputs": [
    {
     "name": "stdout",
     "output_type": "stream",
     "text": [
      "The factorial of 4 is 24\n",
      "The factorial of 6 is 720\n",
      "The factorial of 9 is 362880\n",
      "The factorial of 7 is 5040\n",
      "The factorial of 3 is 6\n",
      "The factorial of 1 is 1\n",
      "The factorial of 5 is 120\n",
      "The factorial of 8 is 40320\n",
      "The factorial of 2 is 2\n",
      "The factorial of 10 is 3628800\n"
     ]
    }
   ],
   "source": [
    "import concurrent.futures\n",
    "import math\n",
    "\n",
    "def calculate_factorial(n):\n",
    "    \"\"\"Calculate the factorial of a number.\"\"\"\n",
    "    return math.factorial(n)\n",
    "\n",
    "def main():\n",
    "    numbers = range(1, 11)  # Numbers from 1 to 10\n",
    "    results = []\n",
    "\n",
    "    # Using ThreadPoolExecutor to manage threads\n",
    "    with concurrent.futures.ThreadPoolExecutor() as executor:\n",
    "        # Map the calculate_factorial function to the numbers\n",
    "        futures = {executor.submit(calculate_factorial, n): n for n in numbers}\n",
    "        \n",
    "        for future in concurrent.futures.as_completed(futures):\n",
    "            number = futures[future]\n",
    "            try:\n",
    "                result = future.result()  # Get the result of the calculation\n",
    "                results.append((number, result))\n",
    "            except Exception as e:\n",
    "                print(f\"Error calculating factorial for {number}: {e}\")\n",
    "\n",
    "    # Print the results\n",
    "    for number, factorial in results:\n",
    "        print(f\"The factorial of {number} is {factorial}\")\n",
    "\n",
    "if __name__ == \"__main__\":\n",
    "    main()"
   ]
  },
  {
   "cell_type": "markdown",
   "id": "b08feb40-c25c-4be3-b990-a160937fdb67",
   "metadata": {},
   "source": [
    "#### Explanation:\n",
    "##### Function Definition:\n",
    "\n",
    "- calculate_factorial(n): A simple function that computes the factorial of a given number using Python’s math.factorial().\n",
    "##### Main Function:\n",
    "\n",
    "- We define a range of numbers from 1 to 10.\n",
    "- We create a ThreadPoolExecutor using a context manager, which will automatically handle the thread pool's shutdown after the block of code is executed.\n",
    "- We use executor.submit() to submit the calculate_factorial function for each number. This returns a future object for each submitted task.\n",
    "- We then use concurrent.futures.as_completed() to iterate over the futures as they complete. This allows us to handle the results as soon as they are available.\n",
    "##### Error Handling:\n",
    "\n",
    "We wrap the result retrieval in a try-except block to handle any exceptions that may arise during the computation.\n",
    "#### Output:\n",
    "\n",
    "Finally, we print the results of the factorial calculations."
   ]
  },
  {
   "cell_type": "markdown",
   "id": "ac8a2c1f-062f-4c56-a565-6cc8e4cf6ee8",
   "metadata": {},
   "source": [
    "### Que8. Create a Python program that uses multiprocessing.Pool to compute the square of numbers from 1 to 10 in parallel. Measure the time taken to perform this computation using a pool of different sizes (e.g., 2, 4, 8 processes)."
   ]
  },
  {
   "cell_type": "markdown",
   "id": "226c023b-724a-4aac-a383-8fb8cb6af4da",
   "metadata": {},
   "source": [
    "### Answer\n",
    "Here's a Python program that uses multiprocessing.Pool to compute the squares of numbers from 1 to 10 in parallel. The program also measures the time taken for computations using different pool sizes (2, 4, and 8 processes)."
   ]
  },
  {
   "cell_type": "code",
   "execution_count": null,
   "id": "1eaaed6d-e9fe-444f-9330-9c545f8bd631",
   "metadata": {},
   "outputs": [],
   "source": [
    "import multiprocessing\n",
    "import time\n",
    "\n",
    "def square(n):\n",
    "    \"\"\"Compute the square of a number.\"\"\"\n",
    "    return n * n\n",
    "\n",
    "def main():\n",
    "    numbers = list(range(1, 11))  # Numbers from 1 to 10\n",
    "    pool_sizes = [2, 4, 8]         # Different sizes of process pools\n",
    "\n",
    "    for pool_size in pool_sizes:\n",
    "        # Measure the time taken for the computation\n",
    "        start_time = time.time()\n",
    "\n",
    "        with multiprocessing.Pool(processes=pool_size) as pool:\n",
    "            results = pool.map(square, numbers)\n",
    "\n",
    "        end_time = time.time()\n",
    "        elapsed_time = end_time - start_time\n",
    "\n",
    "        # Print results\n",
    "        print(f\"Pool size: {pool_size}\")\n",
    "        for number, result in zip(numbers, results):\n",
    "            print(f\"The square of {number} is {result}\")\n",
    "        print(f\"Time taken with pool size {pool_size}: {elapsed_time:.4f} seconds\\n\")\n",
    "\n",
    "if __name__ == \"__main__\":\n",
    "    main()"
   ]
  },
  {
   "cell_type": "markdown",
   "id": "fec94b18-b928-4927-8e63-80777f918422",
   "metadata": {},
   "source": [
    "#### Explanation:\n",
    "##### Function Definition:\n",
    "\n",
    "The square(n) function computes the square of the given number n.\n",
    "##### Main Function:\n",
    "\n",
    "A list of numbers from 1 to 10 is created.\n",
    "Different pool sizes (2, 4, and 8) are specified for testing.\n",
    "##### For each pool size:\n",
    "The start time is recorded.\n",
    "A Pool is created with the specified number of processes, and pool.map() is used to apply the square function to the numbers concurrently.\n",
    "The end time is recorded after the computation.\n",
    "The elapsed time is calculated and printed along with the results.\n",
    "#### Output:\n",
    "\n",
    "After running the program, it prints the square of each number and the time taken for each pool size.\n",
    "Running the Program\n",
    "To run the program, ensure you have Python installed. Copy the code into a .py file and execute it in your terminal or command prompt. You should see the squares of the numbers from 1 to 10 printed alongside the time taken for each pool size.\n",
    "\n",
    "Example Output\n",
    "You can expect output similar to this (actual times may vary):"
   ]
  },
  {
   "cell_type": "markdown",
   "id": "e64d0f94-73fe-4690-8b98-b9193916d8bf",
   "metadata": {},
   "source": [
    "Pool size: 2\n",
    "The square of 1 is 1\n",
    "The square of 2 is 4\n",
    "The square of 3 is 9\n",
    "The square of 4 is 16\n",
    "The square of 5 is 25\n",
    "The square of 6 is 36\n",
    "The square of 7 is 49\n",
    "The square of 8 is 64\n",
    "The square of 9 is 81\n",
    "The square of 10 is 100\n",
    "Time taken with pool size 2: 0.XXXX seconds\n",
    "\n",
    "Pool size: 4\n",
    "The square of 1 is 1\n",
    "The square of 2 is 4\n",
    "The square of 3 is 9\n",
    "The square of 4 is 16\n",
    "The square of 5 is 25\n",
    "The square of 6 is 36\n",
    "The square of 7 is 49\n",
    "The square of 8 is 64\n",
    "The square of 9 is 81\n",
    "The square of 10 is 100\n",
    "Time taken with pool size 4: 0.XXXX seconds\n",
    "\n",
    "Pool size: 8\n",
    "The square of 1 is 1\n",
    "The square of 2 is 4\n",
    "The square of 3 is 9\n",
    "The square of 4 is 16\n",
    "The square of 5 is 25\n",
    "The square of 6 is 36\n",
    "The square of 7 is 49\n",
    "The square of 8 is 64\n",
    "The square of 9 is 81\n",
    "The square of 10 is 100\n",
    "Time taken with pool size 8: 0.XXXX seconds"
   ]
  },
  {
   "cell_type": "code",
   "execution_count": null,
   "id": "4c93fc75-36ee-40e9-a51d-e556adc49a80",
   "metadata": {},
   "outputs": [],
   "source": []
  }
 ],
 "metadata": {
  "kernelspec": {
   "display_name": "Python 3 (ipykernel)",
   "language": "python",
   "name": "python3"
  },
  "language_info": {
   "codemirror_mode": {
    "name": "ipython",
    "version": 3
   },
   "file_extension": ".py",
   "mimetype": "text/x-python",
   "name": "python",
   "nbconvert_exporter": "python",
   "pygments_lexer": "ipython3",
   "version": "3.12.4"
  }
 },
 "nbformat": 4,
 "nbformat_minor": 5
}
